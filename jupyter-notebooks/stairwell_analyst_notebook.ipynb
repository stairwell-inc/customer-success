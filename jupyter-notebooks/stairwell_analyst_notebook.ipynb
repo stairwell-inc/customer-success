{
 "cells": [
  {
   "cell_type": "markdown",
   "metadata": {},
   "source": [
    "<div class=\"c_inline\" style=\"box-shadow: rgba(1, 43, 69, 0) 0px 15px 80px;\">\n",
    "<aside class=\"inline_logo inline_col\">\n",
    "<a class=\"logo_anchor\" href=\"#top\" data-scroll-to=\"\" title=\"Scroll to top of page\" target=\"_self\" data-cursor=\"1\">\n",
    "<svg class=\"anchor_monogram\" xmlns=\"http://www.w3.org/2000/svg\" width=\"141\" height=\"45\" fill=\"none\" viewBox=\"0 0 141 45\"><path fill=\"url(#headerLogoGradient)\" fill-rule=\"evenodd\" d=\"M128.18.796v29.66l12.25-1.44v-5.26l-5.989.702V.063l-6.261.733Zm-14.352 31.339V2.477l6.262-.735V26.14l5.988-.703v5.258l-12.25 1.44Zm-26.48 3.101 4.976-.584 4.824-30.215-5.64.662-2.176 15.492-1.867-15.025-4.121.483-1.867 15.457L79.57 6.48l-6.144.72 4.781 29.11 5.25-.62 1.945-13.499 1.946 13.045ZM48.46 39.788v-29.66l6.223-.729v29.66l-6.223.73Zm-40.2 5.075C3.517 45.427.25 42.985.25 39.98v-3.966l5.832-.684v2.781c0 1.113.7 1.845 1.906 1.704.512-.06.903-.226 1.18-.503.215-.213.363-.492.45-.837l.027-.143.027-.162.023-.27.004-.212c0-2.443-1.672-4.253-4.394-6.494C2.504 28.853.602 25.962.602 22.587c0-4.04 2.8-7.555 7.816-8.143 1.848-.217 3.508.155 4.777.902 1.563.918 2.532 2.404 2.532 4.061v3.969l-5.872.688v-3.005c0-1.04-.62-1.634-1.437-1.539-.816.096-1.637.859-1.637 1.897 0 2.226.664 2.889 3.774 6.01l.375.376c2.398 2.386 4.953 4.924 4.953 8.937l-.012.455-.035.425-.059.396-.043.248a7.995 7.995 0 0 1-2.03 3.927 8.521 8.521 0 0 1-1.786 1.444 8.829 8.829 0 0 1-3.656 1.228ZM41.966 10.89l-7.426.869-4.125 30.141 5.516-.646.468-3.784-2.566-.595 5.488-.643.395 4.588 6.453-.75-4.203-29.18Zm-4.942 20.338 1.168-9.887.79 9.659-1.958.228Zm62.262-27.05 12.25-1.432v4.893l-9.101 1.066 3.074.72v5.668l3.965-.464v5.264l-3.965.463v7.49l6.027-.705v5.263l-12.25 1.436V4.178ZM69.613 22.964c1.594-.965 2.606-2.157 2.606-3.569V12.76c0-3.78-3.617-4.989-6.613-4.639l-7.622.892v29.66l6.223-.729V25.97l.816-.096c.856-.101 1.286.376 1.286.999v6.229l.011 4.595 6.012-.705v-11.08c0-.726-.297-1.329-.805-1.823-.476-.467-1.14-.838-1.914-1.126Zm-3.46-3.3c0 .852-.395 1.23-1.051 1.314l-.895.104v-6.627l-2.574-.603 3.469-.406c.66-.077 1.05.21 1.05 1.063v5.154Zm-49.34-.75v-5.079l14.503-1.698v5.078l-6.617.774 2.574.6v23.68l-6.222.728v-24.58l-4.238.496Z\" clip-rule=\"evenodd\"></path><defs><linearGradient id=\"headerLogoGradient\" x1=\"3.429\" x2=\"138.802\" y1=\"30.407\" y2=\"11.543\" gradientUnits=\"userSpaceOnUse\"><stop stop-color=\"#EB512A\"></stop><stop offset=\".25\" stop-color=\"#EB5429\"></stop><stop offset=\".44\" stop-color=\"#EC5E24\"></stop><stop offset=\".62\" stop-color=\"#ED6F1D\"></stop><stop offset=\".79\" stop-color=\"#EE8713\"></stop><stop offset=\".95\" stop-color=\"#F0A505\"></stop><stop offset=\"1\" stop-color=\"#F1B100\"></stop></linearGradient></defs></svg> </a>\n",
    "</aside>\n",
    "</div>\n",
    "<b>Analyst Notebook & API Reference</b><br><br>\n",
    "Elevate your SOC, incident response, and threat hunting teams to legendary defenders with Stairwell’s AI-driven cybersecurity automation platform. This Jupyter Notebook was built to introduce some of the capabilities available using the <a href=\"https://api.stairwell.com\">Stairwell APIs</a>.<br>"
   ]
  },
  {
   "cell_type": "code",
   "execution_count": 196,
   "metadata": {},
   "outputs": [],
   "source": [
    "# If you wish to keep your credentials in a separate file, simply put your ENV_ID and API_KEY\n",
    "# into a python file and import it like we did here in the same directory. The file is named swcreds.py\n",
    "# Otherwise, input them manually below\n",
    "# import swcreds\n",
    "import sys\n",
    "import re\n",
    "import hashlib\n",
    "import requests\n",
    "import urllib.parse\n",
    "import pandas as pd\n",
    "import json\n",
    "import pprint\n",
    "from pandas import json_normalize\n",
    "from IPython.display import display, HTML\n",
    "pd.set_option('display.max_colwidth', None)\n",
    "\n",
    "ENV_ID = None      # Put your environment_id here in quotes\n",
    "API_KEY = None     # Put your API token here in quotes\n",
    "BASE_URI = \"https://app.stairwell.com/v1\"\n",
    "DEFAULT_ASSET_ID = None\n",
    "UPLOAD_URL = \"https://http.intake.app.stairwell.com/v2021.05/upload\"\n",
    "headers = {\n",
    "    \"Content-Type\": \"application/json; charset=utf-8\", \n",
    "    \"x-api-source\": \"Stairwell Python Jupyter Notebook\",\n",
    "    'Authorization': API_KEY}\n"
   ]
  },
  {
   "cell_type": "markdown",
   "metadata": {},
   "source": [
    "### Helper functions\n",
    "We have created some simple helper functions that will keep the code below neat and easy to read. Just run the cell below to load them up as you will use them throughout the notebook. Feel free to come back here later and pry into them if you are interested.<br><br>\n",
    "For an entire breakout of our API endpoints visit __[https://api.stairwell.com](https://api.stairwell.com)__ OR jump to the [bottom of this notebook](#Objects) to try each one individually."
   ]
  },
  {
   "cell_type": "code",
   "execution_count": 251,
   "metadata": {},
   "outputs": [],
   "source": [
    "def json_display(dict):\n",
    "    return json.dumps(json.loads(dict), indent=4)\n",
    "\n",
    "def default_asset():\n",
    "    response = requests.get(BASE_URI + '/environments/' + ENV_ID + '/assets', headers={ 'Authorization': API_KEY})\n",
    "    results = json.loads(response.content)\n",
    "    for asset in results['assets']:\n",
    "        if asset['label'] == '__DefaultAsset__':\n",
    "            default_asset = re.findall(\"(?:[a-zA-Z0-9\\-]{29})\", asset['name'])\n",
    "    return default_asset[0]\n",
    "DEFAULT_ASSET_ID = default_asset()\n",
    "\n",
    "def upload_to_stairwell(file, detonate=False):\n",
    "    try:\n",
    "        with open(file, \"rb\") as f:\n",
    "            file_bytes = f.read()\n",
    "            sha256 = hashlib.sha256(file_bytes).hexdigest()\n",
    "            byte_size = sys.getsizeof(file_bytes)\n",
    "            # Trim the file path so its pretty in the UI\n",
    "            trimmed_name = file.partition(\"inception/\")[-1]\n",
    "        stage_1_payload = make_stage1_payload(\n",
    "            DEFAULT_ASSET_ID, trimmed_name, sha256\n",
    "        )\n",
    "        stage_1_response = stage_1_request(stage_1_payload)\n",
    "        pp = pprint.PrettyPrinter(indent=2)\n",
    "        pp.pprint(stage_1_response)\n",
    "        stage_1_action = stage_1_response[\"fileActions\"][0][\"action\"]\n",
    "        if stage_1_action == \"UPLOAD\":\n",
    "            stage_2_response = stage_2_request(file_bytes, stage_1_response, detonate)\n",
    "            print(file)\n",
    "            print(trimmed_name)\n",
    "            print(stage_2_response)\n",
    "        else:\n",
    "            print(file)\n",
    "            print(trimmed_name)\n",
    "            print(stage_1_action)\n",
    "    except:\n",
    "        print(f\"Failed to import: {file}\")\n",
    "    return\n",
    "\n",
    "def make_stage1_payload(asset_id, file_name, sha256, md5):\n",
    "    \"\"\"Creates a stage 1 payload to send to the intake API\"\"\"\n",
    "    return {\n",
    "        \"asset\": {\n",
    "            \"id\": asset_id,\n",
    "        },\n",
    "        \"files\": [\n",
    "            {\n",
    "                \"filePath\": file_name,\n",
    "                \"expected_attributes\": {\n",
    "                    \"identifiers\": [{\"sha256\": sha256}]\n",
    "                },\n",
    "            }\n",
    "        ],\n",
    "    }\n",
    "\n",
    "def stage_1_request(stage_1_payload):\n",
    "    response = requests.request(\n",
    "        \"POST\",\n",
    "        UPLOAD_URL,\n",
    "        data=json.dumps(stage_1_payload),\n",
    "        timeout=300,\n",
    "    )\n",
    "    return response.json()\n",
    "\n",
    "def stage_2_request(file_bytes, stage_1_response, detonate):\n",
    "    stage_2_payload = stage_1_response[\"fileActions\"][0][\"fields\"]\n",
    "    if detonate == True:\n",
    "        stage_2_payload['x-goog-meta-file-detonate'] = 'DETONATE'\n",
    "    stage_2_payload[\"file\"] = file_bytes\n",
    "    # Stage 2 attempt upload\n",
    "    upload_url = stage_1_response[\"fileActions\"][0][\"uploadUrl\"]\n",
    "    print(upload_url)\n",
    "    response_2 = requests.request(\n",
    "        \"POST\", upload_url, files=stage_2_payload, timeout=300\n",
    "    )\n",
    "    return response_2\n",
    "\n",
    "def extract_rules(text):\n",
    "    parsed_rules = []\n",
    "    if text != None:\n",
    "        for s in text:\n",
    "            parsed_rules.append(s.split('/yaraRules/')[-1].strip())\n",
    "    return parsed_rules\n",
    "\n",
    "def extract_verdict(opinions_list):\n",
    "    if isinstance(opinions_list, list) and len(opinions_list) > 0 and opinions_list != None:\n",
    "        return opinions_list[0].get('verdict')\n",
    "    else:\n",
    "        return 'No opinion'\n",
    "\n",
    "def extract_tags(tags):\n",
    "    if isinstance(tags, list) and len(tags) > 0 and tags != None:\n",
    "        tags_list = []\n",
    "        for t in tags:\n",
    "            tags_list.append(t['value'])\n",
    "        return tags_list\n",
    "    \n",
    "def get_all_assets():\n",
    "    response = requests.get(BASE_URI + '/environments/' + ENV_ID + '/assets', headers={ 'Authorization': API_KEY})\n",
    "    results = json.loads(response.content)\n",
    "    return results\n",
    "\n",
    "def detonate_file(hash):\n",
    "    response = requests.post(BASE_URI + '/objects/' + hash + '/detonation:trigger', headers={ 'Authorization': API_KEY}, data=json.dumps({'parent':hash}))\n",
    "    results = json.loads(response.content)\n",
    "    print(\"If the results below are empty please allow a few minutes for detonation to complete.\")\n",
    "    return results\n",
    "\n",
    "def get_detonation(hash):\n",
    "    response = requests.get(BASE_URI + '/objects/' + hash + '/detonation', headers={ 'Authorization': API_KEY})\n",
    "    results = json.loads(response.content)\n",
    "    return results\n",
    "\n",
    "def get_object_metadata(hash):\n",
    "    meta_response = requests.get(BASE_URI + '/objects/' + hash + '/metadata', headers={ 'Authorization': API_KEY})\n",
    "    check_response = meta_response.text.find(\"no object found\")\n",
    "    if check_response != -1:\n",
    "        print(f\"Object {hash} did not have any matching results.\")\n",
    "    else:\n",
    "        results = json.loads(meta_response.content)\n",
    "        return results\n",
    "    \n",
    "def get_object_opinions(hash):\n",
    "    op_response = requests.get(BASE_URI + '/objects/' + hash + '/opinions', headers={ 'Authorization': API_KEY})\n",
    "    op_results = json.loads(op_response.content)\n",
    "    return op_results\n",
    "\n",
    "def get_object_sightings(hash):\n",
    "    objs_response = requests.get(BASE_URI + '/objects/' + hash + '/sightings', headers={ 'Authorization': API_KEY})\n",
    "    objs_results = json.loads(objs_response.content)\n",
    "    return objs_results\n",
    "\n",
    "def get_variant_sightings(list):\n",
    "    seen_list = []\n",
    "    for s in list:\n",
    "        vars_response = requests.get(BASE_URI + '/objects/' + hash + '/sightings', headers={ 'Authorization': API_KEY})\n",
    "        vars_results = json.loads(vars_response.content)\n",
    "        if len(vars_results['objectSightings']) > 0:\n",
    "            seen_list.append(s)\n",
    "    return seen_list\n",
    "\n",
    "def get_object_tags(hash):\n",
    "    tags_response = requests.get(BASE_URI + '/objects/' + hash + '/tags', headers={ 'Authorization': API_KEY})\n",
    "    tags_results = json.loads(tags_response.content)\n",
    "    return tags_results\n",
    "\n",
    "def get_asset_label(asset_id):\n",
    "    assetMeta_response = requests.get(BASE_URI + '/assets/' + asset_id, headers=headers)\n",
    "    if json.loads(assetMeta_response.content)['label'] != None:\n",
    "        return json.loads(assetMeta_response.content)['label']\n",
    "    else:\n",
    "        return \"\"\n",
    "\n",
    "def get_object_comments(hash):\n",
    "    comms_response = requests.get(BASE_URI + '/objects/' + hash + '/comments', headers={ 'Authorization': API_KEY})\n",
    "    comms_results = json.loads(comms_response.content)\n",
    "    return comms_results\n",
    "\n",
    "def get_object_variants_list(hash):\n",
    "    variants_list = []\n",
    "    variants_response = requests.get(BASE_URI + '/objects/' + hash + '/variants', headers=headers)\n",
    "    variants_results = json.loads(variants_response.content)\n",
    "    if len(variants_results['objectVariants']) > 0:\n",
    "        for v in variants_results['objectVariants']:\n",
    "            variants_list.append(v['variant']['sha256'])\n",
    "        return variants_list\n",
    "    else:\n",
    "        return None\n",
    "\n",
    "def ioc_variant_analysis(vsightings_list):\n",
    "    dfv = pd.DataFrame()\n",
    "    for vs in vsightings_list:\n",
    "        metadata = get_object_metadata(vs)\n",
    "        opinions = get_object_opinions(vs)\n",
    "        sightings = get_object_sightings(vs)\n",
    "        comments = get_object_comments(vs)\n",
    "        dfm = json_normalize(metadata)\n",
    "        dfo = json_normalize(opinions)\n",
    "        dfs = json_normalize(sightings)\n",
    "        dfc = json_normalize(comments)\n",
    "        dfm['opinions'] = dfo['opinions']\n",
    "        dfm['sightings'] = dfs['objectSightings']\n",
    "        dfm['comments'] = dfc['comments']\n",
    "        if len(sightings['objectSightings']) > 0:\n",
    "            dfm['file'] = sightings['objectSightings'][0]['filepath'] + sightings['objectSightings'][0]['filename']\n",
    "        else:\n",
    "            dfm['file'] = None\n",
    "        dfv = pd.concat([dfv, dfm])\n",
    "\n",
    "    dfv['yaraRuleMatches'] = dfv['yaraRuleMatches'].apply(lambda x: extract_rules(x))\n",
    "    dfv['tags'] = dfv['tags'].apply(lambda v: extract_tags(v))\n",
    "    dfv['opinions'] = dfv['opinions'].apply(extract_verdict)\n",
    "    dfv = dfv.drop(columns=['name', 'sha3256', 'shannonEntropy', 'imphash', 'imphashSorted', 'environments','networkIndicators.improbableHostnames','networkIndicators.privateHostnames','networkIndicators.uninterestingIpAddresses','objectSignature.pkcs7VerificationResult','objectSignature.x509Certificates'])\n",
    "    dfv = dfv.reindex(['file', 'sha256','opinions','yaraRuleMatches','malEval.labels','malEval.probabilityBucket','tags','malEval.severity','comments', 'sightings', 'size','magic','mimeType','stairwellFirstSeenTime','detonation.tags','detonation.overview','detonation.sampleId','networkIndicators.ipAddresses','networkIndicators.hostnames'], axis=1)\n",
    "    return dfv"
   ]
  },
  {
   "cell_type": "markdown",
   "metadata": {},
   "source": [
    "Here we create a list of some hashes we want to analyze."
   ]
  },
  {
   "cell_type": "code",
   "execution_count": 263,
   "metadata": {},
   "outputs": [],
   "source": [
    "# Input Hashes\n",
    "iocs = [\n",
    "    \"96b77284744f8761c4f2558388e0aee2140618b484ff53fa8b222b340d2a9c84\",\n",
    "    \"05563f41e711850f3ea8747a359a1f9d3127bb26a59dc69af4ae0eb3a04e5c51\",\n",
    "    \"e7762f90024c5366807c7c145d3456f0ac3be086c0ec3557427d3c2c10a2052d\",\n",
    "    \"1d3b5c650533d13c81e325972a912e3ff8776e36e18bca966dae50735f8ab296\"\n",
    "]"
   ]
  },
  {
   "cell_type": "markdown",
   "metadata": {},
   "source": [
    "We check the hashes against our GetObjectMetadata, ListOpinions, ListComments, and ListObjectSightings endpoints as a baseline and look for any variants in our environment. We created some helper functions to do all this and make the code easier to read. As you can see, there is a lot going on here. Note many of the data columns were dropped for the sake of screen space. To see the entire response from each of these endpoints please see the section at the bottom of this notebook."
   ]
  },
  {
   "cell_type": "code",
   "execution_count": 267,
   "metadata": {},
   "outputs": [
    {
     "data": {
      "text/html": [
       "<div>\n",
       "<style scoped>\n",
       "    .dataframe tbody tr th:only-of-type {\n",
       "        vertical-align: middle;\n",
       "    }\n",
       "\n",
       "    .dataframe tbody tr th {\n",
       "        vertical-align: top;\n",
       "    }\n",
       "\n",
       "    .dataframe thead th {\n",
       "        text-align: right;\n",
       "    }\n",
       "</style>\n",
       "<table border=\"1\" class=\"dataframe\">\n",
       "  <thead>\n",
       "    <tr style=\"text-align: right;\">\n",
       "      <th></th>\n",
       "      <th>file</th>\n",
       "      <th>sha256</th>\n",
       "      <th>opinions</th>\n",
       "      <th>yaraRuleMatches</th>\n",
       "      <th>malEval.labels</th>\n",
       "      <th>malEval.probabilityBucket</th>\n",
       "      <th>tags</th>\n",
       "      <th>malEval.severity</th>\n",
       "      <th>comments</th>\n",
       "      <th>sightings</th>\n",
       "      <th>size</th>\n",
       "      <th>magic</th>\n",
       "      <th>mimeType</th>\n",
       "      <th>stairwellFirstSeenTime</th>\n",
       "      <th>detonation.tags</th>\n",
       "      <th>detonation.overview</th>\n",
       "      <th>detonation.sampleId</th>\n",
       "      <th>networkIndicators.ipAddresses</th>\n",
       "      <th>networkIndicators.hostnames</th>\n",
       "    </tr>\n",
       "  </thead>\n",
       "  <tbody>\n",
       "    <tr>\n",
       "      <th>0</th>\n",
       "      <td>None</td>\n",
       "      <td>96b77284744f8761c4f2558388e0aee2140618b484ff53fa8b222b340d2a9c84</td>\n",
       "      <td>No opinion</td>\n",
       "      <td>[]</td>\n",
       "      <td>[trojan.hermeticwiper]</td>\n",
       "      <td>PROBABILITY_VERY_HIGH</td>\n",
       "      <td>None</td>\n",
       "      <td>INFORMATIONAL</td>\n",
       "      <td>[]</td>\n",
       "      <td>[]</td>\n",
       "      <td>17480</td>\n",
       "      <td>PE32+ executable (native) x86-64, for MS Windows</td>\n",
       "      <td>application/x-dosexec</td>\n",
       "      <td>2022-02-26T04:15:26.193531Z</td>\n",
       "      <td>[]</td>\n",
       "      <td></td>\n",
       "      <td></td>\n",
       "      <td>[]</td>\n",
       "      <td>[crl.microsoft.com, crl.verisign.com, csc3-2010-aia.verisign.com, csc3-2010-crl.verisign.com, logo.verisign.com, ocsp.verisign.com, www.verisign.com]</td>\n",
       "    </tr>\n",
       "    <tr>\n",
       "      <th>0</th>\n",
       "      <td>C:\\prln.exe</td>\n",
       "      <td>05563f41e711850f3ea8747a359a1f9d3127bb26a59dc69af4ae0eb3a04e5c51</td>\n",
       "      <td>No opinion</td>\n",
       "      <td>[Methodology_APIHashing_rol7XorHash32, Methodology_StackStrings_Misc_2, Methodology_Mutation_URL_XOR_PE, Methodology_FilePackage_Nesting_PE_In_PE_, SUSP_XORed_URL_in_EXE, TTP_FilePackage_PE_embedded_unsigned]</td>\n",
       "      <td>[encoder, Gen:Variant.Ransom.UniWinniCrypt.3, malware-ml]</td>\n",
       "      <td>PROBABILITY_VERY_HIGH</td>\n",
       "      <td>None</td>\n",
       "      <td>HIGH</td>\n",
       "      <td>[]</td>\n",
       "      <td>[{'sightingTime': '2023-08-28T20:04:56.681472158Z', 'environment': 'BJJKNH-MCGB8F-WAED6B-3ELG8CPJ', 'asset': 'assets/JHUQCW-JU56FW-ZC9WC8-N2655HLN', 'filename': 'prln.exe', 'filepath': 'C:\\'}]</td>\n",
       "      <td>1144320</td>\n",
       "      <td>PE32 executable (GUI) Intel 80386, for MS Windows</td>\n",
       "      <td>application/x-dosexec</td>\n",
       "      <td>2023-02-15T20:30:15.434022Z</td>\n",
       "      <td>[]</td>\n",
       "      <td></td>\n",
       "      <td></td>\n",
       "      <td>[]</td>\n",
       "      <td>[]</td>\n",
       "    </tr>\n",
       "    <tr>\n",
       "      <th>0</th>\n",
       "      <td>c:\\windows\\system32\\wlnida02s.dll</td>\n",
       "      <td>e7762f90024c5366807c7c145d3456f0ac3be086c0ec3557427d3c2c10a2052d</td>\n",
       "      <td>MALICIOUS</td>\n",
       "      <td>[wiper_HermeticWiper_variants, MAL_HERMETIC_WIPER, HermeticWiper, Pro_apt_HermeticWiper, Pro_apt_HermeticWiper_certificate, HermeticWiper_Wide_DriveStuff_3, HermeticWiper_Wide_DriveStuff_2, HermeticWiper_Wide_DriveStuff, TTP_Signer_VersionInfo_Mismatch, TTP_Signer_VersionInfo_Mismatch_Pt_Deux, TTP_Signer_VersionInfo_Mismatch_NoStr]</td>\n",
       "      <td>[trojan.hermeticwiper, Generic.HermeticWiper.A.EFA52CE3, generic.hermeticwiper, hermeticwiper, malware]</td>\n",
       "      <td>PROBABILITY_VERY_HIGH</td>\n",
       "      <td>None</td>\n",
       "      <td>HIGH</td>\n",
       "      <td>[]</td>\n",
       "      <td>[{'sightingTime': '2022-05-29T13:07:12.464263Z', 'environment': 'BJJKNH-MCGB8F-WAED6B-3ELG8CPJ', 'asset': 'assets/KH9323-73UXL2-X22G9M-A923P3LW', 'filename': 'wlnida02s.dll', 'filepath': 'c:\\windows\\system32\\'}]</td>\n",
       "      <td>118024</td>\n",
       "      <td>PE32 executable (GUI) Intel 80386, for MS Windows</td>\n",
       "      <td>application/x-dosexec</td>\n",
       "      <td>2022-05-29T02:07:12.464263Z</td>\n",
       "      <td>[]</td>\n",
       "      <td></td>\n",
       "      <td></td>\n",
       "      <td>[]</td>\n",
       "      <td>[cacerts.digicert.com, crl3.digicert.com, crl4.digicert.com, ocsp.digicert.com, qxq1t.lc, www.digicert.com]</td>\n",
       "    </tr>\n",
       "    <tr>\n",
       "      <th>0</th>\n",
       "      <td>/home/devadmin/Documents/wrt</td>\n",
       "      <td>1d3b5c650533d13c81e325972a912e3ff8776e36e18bca966dae50735f8ab296</td>\n",
       "      <td>MALICIOUS</td>\n",
       "      <td>[Keyhunt__RSA_PRIVATE_KEY, Akira_strings, Hunt_File_Discovery, Hunt_TimeStomp]</td>\n",
       "      <td>[suspicious, Trojan.Linux.Ransom.298176]</td>\n",
       "      <td>PROBABILITY_VERY_HIGH</td>\n",
       "      <td>[akira, ransomware]</td>\n",
       "      <td>HIGH</td>\n",
       "      <td>[{'body': 'Akira\n",
       "', 'email': 'foster@stairwelldemo.com', 'createTime': '2023-08-07T17:57:16.716Z', 'environment': 'BJJKNH-MCGB8F-WAED6B-3ELG8CPJ'}]</td>\n",
       "      <td>[{'sightingTime': '2023-08-10T02:09:57.395646061Z', 'environment': 'BJJKNH-MCGB8F-WAED6B-3ELG8CPJ', 'asset': 'assets/YV253W-WFVL8L-XVRAQ3-RXRA9ZNN', 'filename': 'wrt', 'filepath': '/home/devadmin/Documents/'}]</td>\n",
       "      <td>3970960</td>\n",
       "      <td>ELF 64-bit LSB executable, x86-64, version 1 (GNU/Linux)</td>\n",
       "      <td>application/x-executable</td>\n",
       "      <td>2023-06-24T01:51:33.133545Z</td>\n",
       "      <td>[]</td>\n",
       "      <td></td>\n",
       "      <td></td>\n",
       "      <td>[]</td>\n",
       "      <td>[bugs.launchpad.net, dkuug.dk, gcc.gnu.org, www.torproject.org]</td>\n",
       "    </tr>\n",
       "  </tbody>\n",
       "</table>\n",
       "</div>"
      ],
      "text/plain": [
       "                                file  \\\n",
       "0                               None   \n",
       "0                        C:\\prln.exe   \n",
       "0  c:\\windows\\system32\\wlnida02s.dll   \n",
       "0       /home/devadmin/Documents/wrt   \n",
       "\n",
       "                                                             sha256  \\\n",
       "0  96b77284744f8761c4f2558388e0aee2140618b484ff53fa8b222b340d2a9c84   \n",
       "0  05563f41e711850f3ea8747a359a1f9d3127bb26a59dc69af4ae0eb3a04e5c51   \n",
       "0  e7762f90024c5366807c7c145d3456f0ac3be086c0ec3557427d3c2c10a2052d   \n",
       "0  1d3b5c650533d13c81e325972a912e3ff8776e36e18bca966dae50735f8ab296   \n",
       "\n",
       "     opinions  \\\n",
       "0  No opinion   \n",
       "0  No opinion   \n",
       "0   MALICIOUS   \n",
       "0   MALICIOUS   \n",
       "\n",
       "                                                                                                                                                                                                                                                                                                                                 yaraRuleMatches  \\\n",
       "0                                                                                                                                                                                                                                                                                                                                             []   \n",
       "0                                                                                                                               [Methodology_APIHashing_rol7XorHash32, Methodology_StackStrings_Misc_2, Methodology_Mutation_URL_XOR_PE, Methodology_FilePackage_Nesting_PE_In_PE_, SUSP_XORed_URL_in_EXE, TTP_FilePackage_PE_embedded_unsigned]   \n",
       "0  [wiper_HermeticWiper_variants, MAL_HERMETIC_WIPER, HermeticWiper, Pro_apt_HermeticWiper, Pro_apt_HermeticWiper_certificate, HermeticWiper_Wide_DriveStuff_3, HermeticWiper_Wide_DriveStuff_2, HermeticWiper_Wide_DriveStuff, TTP_Signer_VersionInfo_Mismatch, TTP_Signer_VersionInfo_Mismatch_Pt_Deux, TTP_Signer_VersionInfo_Mismatch_NoStr]   \n",
       "0                                                                                                                                                                                                                                                                 [Keyhunt__RSA_PRIVATE_KEY, Akira_strings, Hunt_File_Discovery, Hunt_TimeStomp]   \n",
       "\n",
       "                                                                                            malEval.labels  \\\n",
       "0                                                                                   [trojan.hermeticwiper]   \n",
       "0                                                [encoder, Gen:Variant.Ransom.UniWinniCrypt.3, malware-ml]   \n",
       "0  [trojan.hermeticwiper, Generic.HermeticWiper.A.EFA52CE3, generic.hermeticwiper, hermeticwiper, malware]   \n",
       "0                                                                 [suspicious, Trojan.Linux.Ransom.298176]   \n",
       "\n",
       "  malEval.probabilityBucket                 tags malEval.severity  \\\n",
       "0     PROBABILITY_VERY_HIGH                 None    INFORMATIONAL   \n",
       "0     PROBABILITY_VERY_HIGH                 None             HIGH   \n",
       "0     PROBABILITY_VERY_HIGH                 None             HIGH   \n",
       "0     PROBABILITY_VERY_HIGH  [akira, ransomware]             HIGH   \n",
       "\n",
       "                                                                                                                                              comments  \\\n",
       "0                                                                                                                                                   []   \n",
       "0                                                                                                                                                   []   \n",
       "0                                                                                                                                                   []   \n",
       "0  [{'body': 'Akira\n",
       "', 'email': 'foster@stairwelldemo.com', 'createTime': '2023-08-07T17:57:16.716Z', 'environment': 'BJJKNH-MCGB8F-WAED6B-3ELG8CPJ'}]   \n",
       "\n",
       "                                                                                                                                                                                                             sightings  \\\n",
       "0                                                                                                                                                                                                                   []   \n",
       "0                     [{'sightingTime': '2023-08-28T20:04:56.681472158Z', 'environment': 'BJJKNH-MCGB8F-WAED6B-3ELG8CPJ', 'asset': 'assets/JHUQCW-JU56FW-ZC9WC8-N2655HLN', 'filename': 'prln.exe', 'filepath': 'C:\\'}]   \n",
       "0  [{'sightingTime': '2022-05-29T13:07:12.464263Z', 'environment': 'BJJKNH-MCGB8F-WAED6B-3ELG8CPJ', 'asset': 'assets/KH9323-73UXL2-X22G9M-A923P3LW', 'filename': 'wlnida02s.dll', 'filepath': 'c:\\windows\\system32\\'}]   \n",
       "0    [{'sightingTime': '2023-08-10T02:09:57.395646061Z', 'environment': 'BJJKNH-MCGB8F-WAED6B-3ELG8CPJ', 'asset': 'assets/YV253W-WFVL8L-XVRAQ3-RXRA9ZNN', 'filename': 'wrt', 'filepath': '/home/devadmin/Documents/'}]   \n",
       "\n",
       "      size                                                     magic  \\\n",
       "0    17480          PE32+ executable (native) x86-64, for MS Windows   \n",
       "0  1144320         PE32 executable (GUI) Intel 80386, for MS Windows   \n",
       "0   118024         PE32 executable (GUI) Intel 80386, for MS Windows   \n",
       "0  3970960  ELF 64-bit LSB executable, x86-64, version 1 (GNU/Linux)   \n",
       "\n",
       "                   mimeType       stairwellFirstSeenTime detonation.tags  \\\n",
       "0     application/x-dosexec  2022-02-26T04:15:26.193531Z              []   \n",
       "0     application/x-dosexec  2023-02-15T20:30:15.434022Z              []   \n",
       "0     application/x-dosexec  2022-05-29T02:07:12.464263Z              []   \n",
       "0  application/x-executable  2023-06-24T01:51:33.133545Z              []   \n",
       "\n",
       "  detonation.overview detonation.sampleId networkIndicators.ipAddresses  \\\n",
       "0                                                                    []   \n",
       "0                                                                    []   \n",
       "0                                                                    []   \n",
       "0                                                                    []   \n",
       "\n",
       "                                                                                                                             networkIndicators.hostnames  \n",
       "0  [crl.microsoft.com, crl.verisign.com, csc3-2010-aia.verisign.com, csc3-2010-crl.verisign.com, logo.verisign.com, ocsp.verisign.com, www.verisign.com]  \n",
       "0                                                                                                                                                     []  \n",
       "0                                            [cacerts.digicert.com, crl3.digicert.com, crl4.digicert.com, ocsp.digicert.com, qxq1t.lc, www.digicert.com]  \n",
       "0                                                                                        [bugs.launchpad.net, dkuug.dk, gcc.gnu.org, www.torproject.org]  "
      ]
     },
     "execution_count": 267,
     "metadata": {},
     "output_type": "execute_result"
    }
   ],
   "source": [
    "affected_assets = []\n",
    "def ioc_object_analysis(ioc_list):\n",
    "    global affected_assets\n",
    "    df = pd.DataFrame()\n",
    "    dfv = pd.DataFrame()\n",
    "    for i in ioc_list:\n",
    "        variants = get_object_variants_list(i)\n",
    "        seen_variants = get_variant_sightings(variants)\n",
    "        if len(seen_variants)> 0:\n",
    "            dfv = ioc_variant_analysis(seen_variants)\n",
    "        \n",
    "        metadata = get_object_metadata(i)\n",
    "        opinions = get_object_opinions(i)\n",
    "        sightings = get_object_sightings(i)\n",
    "        comments = get_object_comments(i)\n",
    "        dfm = json_normalize(metadata)\n",
    "        dfo = json_normalize(opinions)\n",
    "        dfs = json_normalize(sightings)\n",
    "        dfc = json_normalize(comments)\n",
    "        dfm['opinions'] = dfo['opinions']\n",
    "        dfm['sightings'] = dfs['objectSightings']\n",
    "        dfm['comments'] = dfc['comments']\n",
    "        if len(sightings['objectSightings']) > 0:\n",
    "            dfm['file'] = sightings['objectSightings'][0]['filepath'] + sightings['objectSightings'][0]['filename']\n",
    "            for a in sightings['objectSightings']:\n",
    "                affected_assets.append(get_asset_label(a['asset'].split(\"/\")[1]))\n",
    "        else:\n",
    "            dfm['file'] = None\n",
    "        if dfv.empty:\n",
    "            df = pd.concat([df, dfm])\n",
    "        else:\n",
    "            df = pd.concat([df, dfm, dfv])\n",
    "\n",
    "    df['yaraRuleMatches'] = df['yaraRuleMatches'].apply(lambda x: extract_rules(x))\n",
    "    df['tags'] = df['tags'].apply(lambda v: extract_tags(v))\n",
    "    df['opinions'] = df['opinions'].apply(extract_verdict)\n",
    "    df = df.drop(columns=['name', 'sha3256', 'shannonEntropy', 'imphash', 'imphashSorted', 'environments','networkIndicators.improbableHostnames','networkIndicators.privateHostnames','networkIndicators.uninterestingIpAddresses','objectSignature.pkcs7VerificationResult','objectSignature.x509Certificates'])\n",
    "    df = df.reindex(['file', 'sha256','opinions','yaraRuleMatches','malEval.labels','malEval.probabilityBucket','tags','malEval.severity','comments', 'sightings', 'size','magic','mimeType','stairwellFirstSeenTime','detonation.tags','detonation.overview','detonation.sampleId','networkIndicators.ipAddresses','networkIndicators.hostnames'], axis=1)\n",
    "    return df\n",
    "\n",
    "ioc_object_analysis(iocs) # Takes an iterable (list, tuple, set, etc.)"
   ]
  },
  {
   "cell_type": "markdown",
   "metadata": {},
   "source": [
    "The cell above recusively combines data from several endpoints to tell you lots of relevant information such as the probability a given file is malicious, severity, tags, comments, file path (if available), variants, sightings, and much more. Once a file is found that has a malicious score, the next question usually leads to something like \"Has it ever been seen in my environment?\"<br><br> Run the next cell to see if any assets (endpoints) in your environment have ever observed any of the file hashes above *as well as* any variant of those files."
   ]
  },
  {
   "cell_type": "code",
   "execution_count": 266,
   "metadata": {},
   "outputs": [
    {
     "name": "stdout",
     "output_type": "stream",
     "text": [
      "['JUNGLE', 'olivia-win11', 'dev-build']\n"
     ]
    }
   ],
   "source": [
    "print(affected_assets)"
   ]
  },
  {
   "cell_type": "markdown",
   "metadata": {},
   "source": [
    "You've just performed a mini breach analysis in mere seconds! Using code/workflow like this, automation takes on a whole new level of usefulness by performing a tremendous amount of triage and analysis that can be packaged up and sent into a SIEM, ticketing platform, or case management system for further actioning.\n",
    "___"
   ]
  },
  {
   "cell_type": "markdown",
   "metadata": {},
   "source": [
    "If you would like to remotely detonate a file already in the platform, run the cell below."
   ]
  },
  {
   "cell_type": "code",
   "execution_count": null,
   "metadata": {},
   "outputs": [],
   "source": [
    "hash = 'df28459618ca4dc29ae2f60be835dbe2046029e7732e42a1669ac113d847b659'\n",
    "print(json.dumps(detonate_file(hash), indent=4))"
   ]
  },
  {
   "cell_type": "markdown",
   "metadata": {},
   "source": [
    "To see the results of the detonation, wait a couple minutes and then get the report (WARNING, this will potentially be a large amount of data)"
   ]
  },
  {
   "cell_type": "code",
   "execution_count": 44,
   "metadata": {},
   "outputs": [],
   "source": [
    "hash = 'df28459618ca4dc29ae2f60be835dbe2046029e7732e42a1669ac113d847b659'\n",
    "print(json.dumps(get_detonation(hash), indent=4))"
   ]
  },
  {
   "cell_type": "markdown",
   "metadata": {},
   "source": [
    "If you want to upload a sample for analysis, make sure the file is in the same directory as this notebook and enter it's information below, then run the cell.<br>\n",
    "TIP: If you would like to detonate the file as soon as it's uploaded, set `detonate=True`"
   ]
  },
  {
   "cell_type": "code",
   "execution_count": null,
   "metadata": {},
   "outputs": [],
   "source": [
    "upload_to_stairwell(\"file.exe\", detonate=False)"
   ]
  },
  {
   "cell_type": "markdown",
   "metadata": {},
   "source": [
    "<div class=\"alert alert-block alert-info\">\n",
    "<b>Individual API Examples:</b> Below you will find examples of our individual endpoints so you can explore the full data returned from each one.\n",
    "</div>"
   ]
  },
  {
   "cell_type": "markdown",
   "metadata": {},
   "source": [
    "## [Objects](#Objects)"
   ]
  },
  {
   "cell_type": "markdown",
   "metadata": {},
   "source": [
    "### GetObjectMetadata\n",
    "Gets the metadata for the object specified (sha256)."
   ]
  },
  {
   "cell_type": "code",
   "execution_count": null,
   "metadata": {},
   "outputs": [],
   "source": [
    "objMeta_response = requests.get(BASE_URI + '/objects/' + hash + '/metadata', headers=headers)\n",
    "print(json_display(objMeta_response.content))"
   ]
  },
  {
   "cell_type": "markdown",
   "metadata": {},
   "source": [
    "### ListObjectMetadata\n",
    "Fetches a list of object metadata. Objects returned match the CEL filter query specified in the request.\n",
    "\n",
    "__[https://help.stairwell.com/en/knowledge/how-do-i-write-a-cel-query](https://help.stairwell.com/en/knowledge/how-do-i-write-a-cel-query)__"
   ]
  },
  {
   "cell_type": "code",
   "execution_count": null,
   "metadata": {},
   "outputs": [],
   "source": [
    "# Copy the query from the UI and paste it in the urllib.parse.quote_plus() function to URL encode it\n",
    "query = urllib.parse.quote_plus('mal_eval.malicious == true && asset.count > 0 && asset.count < 10 && object.magic == \"EXE\"')\n",
    "objMetaList_response = requests.get(BASE_URI + '/objects/metadata?filter=' + query, headers=headers)\n",
    "print(json_display(objMetaList_response.content))"
   ]
  },
  {
   "cell_type": "markdown",
   "metadata": {},
   "source": [
    "### ListObjectVariants\n",
    "Gets the variants for the specified object."
   ]
  },
  {
   "cell_type": "code",
   "execution_count": null,
   "metadata": {},
   "outputs": [],
   "source": [
    "variants_response = requests.get(BASE_URI + '/objects/' + hash + '/variants', headers=headers)\n",
    "print(json_display(variants_response.content))"
   ]
  },
  {
   "cell_type": "markdown",
   "metadata": {},
   "source": [
    "### ListObjectSightings\n",
    "Gets the sightings for the specified object an any assets on which it has appeared in your environment."
   ]
  },
  {
   "cell_type": "code",
   "execution_count": null,
   "metadata": {},
   "outputs": [],
   "source": [
    "sightings_response = requests.get(BASE_URI + '/objects/' + hash + '/sightings', headers=headers)\n",
    "print(json_display(sightings_response.content))"
   ]
  },
  {
   "cell_type": "markdown",
   "metadata": {},
   "source": [
    "### ListObjectOpinions\n",
    "Gets the opinions for the specified object."
   ]
  },
  {
   "cell_type": "code",
   "execution_count": null,
   "metadata": {},
   "outputs": [],
   "source": [
    "opinions_response = requests.get(BASE_URI + '/objects/' + hash + '/opinions', headers=headers)\n",
    "print(json_display(opinions_response.content))"
   ]
  },
  {
   "cell_type": "markdown",
   "metadata": {},
   "source": [
    "### CreateObjectOpinion\n",
    "Creates/Updates a new opinion for a given object. Permitted 'verdicts' include:<br>\n",
    "`\"OPINION_VERDICT_UNSPECIFIED\"`<br>\n",
    "`\"NO_OPINION\"`<br>\n",
    "`\"TRUSTED\"`<br>\n",
    "`\"GRAYWARE\"`<br>\n",
    "`\"MALICIOUS\"`<br>"
   ]
  },
  {
   "cell_type": "code",
   "execution_count": null,
   "metadata": {},
   "outputs": [],
   "source": [
    "body = {\"verdict\": \"OPINION_VERDICT_UNSPECIFIED\", \"environment\": ENV_ID}\n",
    "opinions_response = requests.request(\"POST\", BASE_URI + '/objects/' + hash + '/opinions', headers=headers, data=json.dumps(body))\n",
    "print(json_display(opinions_response.content))"
   ]
  },
  {
   "cell_type": "markdown",
   "metadata": {},
   "source": [
    "### ListObjectComments\n",
    "Gets the comments for the specified object."
   ]
  },
  {
   "cell_type": "code",
   "execution_count": null,
   "metadata": {},
   "outputs": [],
   "source": [
    "comms_response = requests.get(BASE_URI + '/objects/' + hash + '/comments', headers=headers)\n",
    "print(json_display(comms_response.content))"
   ]
  },
  {
   "cell_type": "markdown",
   "metadata": {},
   "source": [
    "### CreateObjectComment\n",
    "Appends a new comment to a given object"
   ]
  },
  {
   "cell_type": "code",
   "execution_count": null,
   "metadata": {},
   "outputs": [],
   "source": [
    "body = {\"body\": \"This is a test comment\", \"environment\": ENV_ID}\n",
    "comms_response = requests.request(\"POST\", BASE_URI + '/objects/' + hash + '/comments', headers=headers, data=json.dumps(body))\n",
    "print(json_display(comms_response.content))"
   ]
  },
  {
   "cell_type": "markdown",
   "metadata": {},
   "source": [
    "### ListObjectTags\n",
    "Gets the tags for the specified object."
   ]
  },
  {
   "cell_type": "code",
   "execution_count": null,
   "metadata": {},
   "outputs": [],
   "source": [
    "tags_response = requests.get(BASE_URI + '/objects/' + hash + '/tags', headers=headers)\n",
    "print(json_display(tags_response.content))"
   ]
  },
  {
   "cell_type": "markdown",
   "metadata": {},
   "source": [
    "### DeleteObjectTag\n",
    "Deletes a tag on a given object. Returns a blank response & RC 200 if successful\n"
   ]
  },
  {
   "cell_type": "code",
   "execution_count": null,
   "metadata": {},
   "outputs": [],
   "source": [
    "tag_id = None\n",
    "tags_response = requests.request(\"DELETE\", BASE_URI + '/objects/' + hash + '/tags/' + tag_id, headers=headers)\n",
    "print(json_display(tags_response.content))"
   ]
  },
  {
   "cell_type": "markdown",
   "metadata": {},
   "source": [
    "### CreateObjectTag\n",
    "Adds a new tag to a given object"
   ]
  },
  {
   "cell_type": "code",
   "execution_count": null,
   "metadata": {},
   "outputs": [],
   "source": [
    "body = {\"value\": \"TEST_TAG\", \"environment\": ENV_ID}\n",
    "tags_response = requests.request(\"POST\", BASE_URI + '/objects/' + hash + '/tags', headers=headers, data=json.dumps(body))\n",
    "tag_json = json.loads(tags_response.content)\n",
    "tag_id = tag_json['name'].split(\"/\")\n",
    "print(f\" the tag_id is: {tag_id[3]}\")\n",
    "print(json_display(tag_json))"
   ]
  },
  {
   "cell_type": "markdown",
   "metadata": {},
   "source": [
    "### TriggerObjectDetonation\n",
    "Triggers a new detonation for the parent object."
   ]
  },
  {
   "cell_type": "code",
   "execution_count": null,
   "metadata": {},
   "outputs": [],
   "source": [
    "body = {\"parent\": hash}\n",
    "detonation_response = requests.request(\"POST\", BASE_URI + '/objects/' + hash + '/detonation:trigger', headers=headers, data=json.dumps(body))\n",
    "print(json_display(detonation_response.content))"
   ]
  },
  {
   "cell_type": "markdown",
   "metadata": {},
   "source": [
    "### GetObjectDetonation\n",
    "Gets the detonation data for a given object if a detonation has already successfully completed."
   ]
  },
  {
   "cell_type": "code",
   "execution_count": null,
   "metadata": {},
   "outputs": [],
   "source": [
    "detonation_response = requests.get(BASE_URI + '/objects/' + hash + '/detonation', headers=headers)\n",
    "print(json_display(detonation_response.content))"
   ]
  },
  {
   "cell_type": "markdown",
   "metadata": {},
   "source": [
    "### DownloadObject\n",
    "Downloads the object as file."
   ]
  },
  {
   "cell_type": "code",
   "execution_count": null,
   "metadata": {},
   "outputs": [],
   "source": [
    "download_response = requests.get(BASE_URI + '/objects/' + hash + ':download', headers=headers)\n",
    "file = download_response.content"
   ]
  },
  {
   "cell_type": "markdown",
   "metadata": {},
   "source": [
    "___\n",
    "## [Hostnames](#Hostnames)"
   ]
  },
  {
   "cell_type": "markdown",
   "metadata": {},
   "source": [
    "### GetHostnameMetadata\n",
    "Gets metadata for a particular hostname."
   ]
  },
  {
   "cell_type": "code",
   "execution_count": null,
   "metadata": {},
   "outputs": [],
   "source": [
    "hostname = \"stairwell.com\"\n",
    "hostMeta_response = requests.get(BASE_URI + '/hostnames/' + hostname + '/metadata', headers=headers)\n",
    "print(json_display(hostMeta_response.content))"
   ]
  },
  {
   "cell_type": "markdown",
   "metadata": {},
   "source": [
    "### ListHostnameOpinions\n",
    "Gets the opinions for a given hostname."
   ]
  },
  {
   "cell_type": "code",
   "execution_count": null,
   "metadata": {},
   "outputs": [],
   "source": [
    "hostOpinions_response = requests.get(BASE_URI + '/hostnames/' + hostname + '/opinions', headers=headers)\n",
    "print(json_display(hostOpinions_response.content))"
   ]
  },
  {
   "cell_type": "markdown",
   "metadata": {},
   "source": [
    "### CreateHostnameOpinion\n",
    "Updates/Creates the opinion of a given hostname. Permitted 'verdicts' include:<br>\n",
    "`\"OPINION_VERDICT_UNSPECIFIED\"`<br>\n",
    "`\"NO_OPINION\"`<br>\n",
    "`\"TRUSTED\"`<br>\n",
    "`\"GRAYWARE\"`<br>\n",
    "`\"MALICIOUS\"`<br>"
   ]
  },
  {
   "cell_type": "code",
   "execution_count": null,
   "metadata": {},
   "outputs": [],
   "source": [
    "body = {\"verdict\": \"OPINION_VERDICT_UNSPECIFIED\", \"environment\": ENV_ID}\n",
    "hostOpinions_response = requests.request(\"POST\", BASE_URI + '/hostnames/' + hostname + '/opinions', headers=headers, data=json.dumps(body))\n",
    "print(json_display(hostOpinions_response.content))"
   ]
  },
  {
   "cell_type": "markdown",
   "metadata": {},
   "source": [
    "### ListHostnameComments\n",
    "Gets the comments for a given hostname"
   ]
  },
  {
   "cell_type": "code",
   "execution_count": null,
   "metadata": {},
   "outputs": [],
   "source": [
    "hostComms_response = requests.get(BASE_URI + '/hostnames/' + hostname + '/comments', headers=headers)\n",
    "print(json_display(hostComms_response.content))"
   ]
  },
  {
   "cell_type": "markdown",
   "metadata": {},
   "source": [
    "### CreateHostnameComment\n",
    "Appends a new comment to a given hostname."
   ]
  },
  {
   "cell_type": "code",
   "execution_count": null,
   "metadata": {},
   "outputs": [],
   "source": [
    "body = {\"body\": \"This is a test comment\", \"environment\": ENV_ID}\n",
    "hostComms_response = requests.request(\"POST\", BASE_URI + '/hostnames/' + hostname + '/comments', headers=headers, data=json.dumps(body))\n",
    "print(json_display(hostComms_response.content))"
   ]
  },
  {
   "cell_type": "markdown",
   "metadata": {},
   "source": [
    "### ListHostnameTags\n",
    "Gets the tags for the specified hostname."
   ]
  },
  {
   "cell_type": "code",
   "execution_count": null,
   "metadata": {},
   "outputs": [],
   "source": [
    "hostTags_response = requests.get(BASE_URI + '/hostnames/' + hostname + '/tags', headers=headers)\n",
    "print(json_display(hostTags_response.content))"
   ]
  },
  {
   "cell_type": "markdown",
   "metadata": {},
   "source": [
    "### CreateHostNameTag\n",
    "Adds a new tag to a given hostname"
   ]
  },
  {
   "cell_type": "code",
   "execution_count": null,
   "metadata": {},
   "outputs": [],
   "source": [
    "body = {\"value\": \"TEST_TAG2\", \"environment\": ENV_ID}\n",
    "hostTags_response = requests.request(\"POST\", BASE_URI + '/hostnames/' + hostname + '/tags', headers=headers, data=json.dumps(body))\n",
    "hostTag_json = json.loads(hostTags_response.content)\n",
    "hostTag_id = tag_json['name'].split(\"/\")\n",
    "print(f\" the tag_id is: {hostTag_id[3]}\")\n",
    "print(json_display(hostTags_response.content))"
   ]
  },
  {
   "cell_type": "markdown",
   "metadata": {},
   "source": [
    "### DeleteHostNameTag\n",
    "Removes a specified tag from a given hostname."
   ]
  },
  {
   "cell_type": "code",
   "execution_count": null,
   "metadata": {},
   "outputs": [],
   "source": [
    "hostTags_response = requests.request(\"DELETE\", BASE_URI + '/hostnames/' + hostname + '/tags/' + tag_id, headers=headers)\n",
    "print(json_display(hostTags_response.content))"
   ]
  },
  {
   "cell_type": "markdown",
   "metadata": {},
   "source": [
    "___\n",
    "## [IP Addresses](#IpAddresses)"
   ]
  },
  {
   "cell_type": "markdown",
   "metadata": {},
   "source": [
    "### GetIpAddressMetadata\n",
    "Gets metadata for a particular IP address."
   ]
  },
  {
   "cell_type": "code",
   "execution_count": null,
   "metadata": {},
   "outputs": [],
   "source": [
    "ipAddress = \"8.8.8.8\"\n",
    "ipMeta_response = requests.get(BASE_URI + '/ipAddresses/' + ipAddress + '/metadata', headers=headers)\n",
    "print(json_display(ipMeta_response.content))"
   ]
  },
  {
   "cell_type": "markdown",
   "metadata": {},
   "source": [
    "### ListIpAddressOpinions\n",
    "Gets the opinions for a given IP address."
   ]
  },
  {
   "cell_type": "code",
   "execution_count": null,
   "metadata": {},
   "outputs": [],
   "source": [
    "ipOpinions_response = requests.get(BASE_URI + '/ipAddresses/' + ipAddress + '/opinions', headers=headers)\n",
    "print(json_display(ipOpinions_response.content))"
   ]
  },
  {
   "cell_type": "markdown",
   "metadata": {},
   "source": [
    "### CreateIpAddressOpinion\n",
    "Updates/Creates the opinion of a given IP address. Permitted 'verdicts' include:<br>\n",
    "`\"OPINION_VERDICT_UNSPECIFIED\"`<br>\n",
    "`\"NO_OPINION\"`<br>\n",
    "`\"TRUSTED\"`<br>\n",
    "`\"GRAYWARE\"`<br>\n",
    "`\"MALICIOUS\"`<br>"
   ]
  },
  {
   "cell_type": "code",
   "execution_count": null,
   "metadata": {},
   "outputs": [],
   "source": [
    "body = {\"verdict\": \"OPINION_VERDICT_UNSPECIFIED\", \"environment\": ENV_ID}\n",
    "ipOpinions_response = requests.request(\"POST\", BASE_URI + '/ipAddresses/' + ipAddress + '/opinions', headers=headers, data=json.dumps(body))\n",
    "print(json_display(ipOpinions_response.content))"
   ]
  },
  {
   "cell_type": "markdown",
   "metadata": {},
   "source": [
    "### ListIpAddressComments\n",
    "Gets the comments for a given IP address"
   ]
  },
  {
   "cell_type": "code",
   "execution_count": null,
   "metadata": {},
   "outputs": [],
   "source": [
    "ipComms_response = requests.get(BASE_URI + '/ipAddresses/' + ipAddress + '/comments', headers=headers)\n",
    "print(json_display(ipComms_response.content))"
   ]
  },
  {
   "cell_type": "markdown",
   "metadata": {},
   "source": [
    "### CreateIpAddressComment\n",
    "Appends a new comment to a given IP address."
   ]
  },
  {
   "cell_type": "code",
   "execution_count": null,
   "metadata": {},
   "outputs": [],
   "source": [
    "body = {\"body\": \"This is a test comment\", \"environment\": ENV_ID}\n",
    "ipComms_response = requests.request(\"POST\", BASE_URI + '/ipAddresses/' + ipAddress + '/comments', headers=headers, data=json.dumps(body))\n",
    "print(json_display(ipComms_response.content))"
   ]
  },
  {
   "cell_type": "markdown",
   "metadata": {},
   "source": [
    "### ListIpAddressTags\n",
    "Gets the tags for the specified IP Address."
   ]
  },
  {
   "cell_type": "code",
   "execution_count": null,
   "metadata": {},
   "outputs": [],
   "source": [
    "ipTags_response = requests.get(BASE_URI + '/ipAddresses/' + ipAddress + '/tags', headers=headers)\n",
    "print(json_display(ipTags_response.content))"
   ]
  },
  {
   "cell_type": "markdown",
   "metadata": {},
   "source": [
    "### CreateIpAddressTag\n",
    "Adds a new tag to a given IP Address"
   ]
  },
  {
   "cell_type": "code",
   "execution_count": null,
   "metadata": {},
   "outputs": [],
   "source": [
    "body = {\"value\": \"TEST_TAG\", \"environment\": ENV_ID}\n",
    "ipTags_response = requests.request(\"POST\", BASE_URI + '/ipAddresses/' + ipAddress + '/tags', headers=headers, data=json.dumps(body))\n",
    "ipTag_json = json.loads(ipTags_response.content)\n",
    "ipTag_id = ipTag_json['name'].split(\"/\")\n",
    "print(f\" the tag_id is: {ipTag_id[3]}\")\n",
    "print(json_display(ipTags_response.content))"
   ]
  },
  {
   "cell_type": "markdown",
   "metadata": {},
   "source": [
    "### DeleteIpAddressTag\n",
    "Removes a specified tag from a given IP address."
   ]
  },
  {
   "cell_type": "code",
   "execution_count": null,
   "metadata": {},
   "outputs": [],
   "source": [
    "tag_id = \"A1B2C43D4E5F6===\" # Example tag_id\n",
    "ipTags_response = requests.request(\"DELETE\", BASE_URI + '/ipAddresses/' + ipAddress + '/tags/' + tag_id, headers=headers)\n",
    "print(json_display(ipTags_response.content))"
   ]
  },
  {
   "cell_type": "markdown",
   "metadata": {},
   "source": [
    "___\n",
    "## [Yara Rules](#YaraRules)"
   ]
  },
  {
   "cell_type": "markdown",
   "metadata": {},
   "source": [
    "<div class=\"alert alert-block alert-info\">\n",
    "<b>Tip:</b> Note that Yara Rules are specific to the environment they were created in or shared from, if a rule originates from an environment besides your own, you would need to supply that environment_id as well when requesting the rule metadata.<br>\n",
    "- Florian's Open Rules = NCS2SM-YHB2KT-SAFUDX-JC7F6WYA<br>\n",
    "- Stairwell OSINT Rules = EB3DXY-3ZYFVH-6HNKJQ-GAPKHESS<br>\n",
    "- Stairwell Methodology Rules = GEG6FU-MRARGF-TLTM6X-H6MGDT5E<br>\n",
    "- Stairwell Research Rules = NQNJM6-5LSCAF-3MC5FJ-W8EKGW6N<br><br>\n",
    "<b>Note that you cannot make changes to rules shared from outside your environment</b>\n",
    "</div>"
   ]
  },
  {
   "cell_type": "markdown",
   "metadata": {},
   "source": [
    "### GetYaraRule\n",
    "Gets Yara rule metadata and rule definition."
   ]
  },
  {
   "cell_type": "code",
   "execution_count": null,
   "metadata": {},
   "outputs": [],
   "source": [
    "RuleEnv_ID = \"EB3DXY-3ZYFVH-6HNKJQ-GAPKHESS\"\n",
    "yaraRule = 'Hunt_File_Discovery'\n",
    "yaraRule_response = requests.get(BASE_URI + '/environments/' + RuleEnv_ID + '/yaraRules/' + yaraRule, headers=headers)\n",
    "print(json_display(yaraRule_response.content))"
   ]
  },
  {
   "cell_type": "markdown",
   "metadata": {},
   "source": [
    "### ListYaraRuleTags\n",
    "Gets the tags for the specified yara rule."
   ]
  },
  {
   "cell_type": "code",
   "execution_count": null,
   "metadata": {},
   "outputs": [],
   "source": [
    "yaraRule_response = requests.get(BASE_URI + '/environments/' + RuleEnv_ID + '/yaraRules/' + yaraRule + '/tags', headers=headers)\n",
    "print(json_display(yaraRule_response.content))"
   ]
  },
  {
   "cell_type": "markdown",
   "metadata": {},
   "source": [
    "### CreateYaraRuleTag\n",
    "Create and apply a tag to a given Yara rule."
   ]
  },
  {
   "cell_type": "code",
   "execution_count": null,
   "metadata": {},
   "outputs": [],
   "source": [
    "body = {\"value\": \"TEST_TAG\", \"environment\": RuleEnv_ID}\n",
    "yaraRuleTags_response = requests.request(\"POST\", BASE_URI + '/environments/' + RuleEnv_ID + '/yaraRules/' + yaraRule + '/tags', headers=headers, data=json.dumps(body))\n",
    "yaraRuleTags_json = json.loads(yaraRuleTags_response.content)\n",
    "yaraRuleTags_id = yaraRuleTags_json['name'].split(\"/\")\n",
    "print(f\" the tag_id is: {yaraRuleTags_id[3]}\")\n",
    "print(json_display(yaraRuleTags_response.content))"
   ]
  },
  {
   "cell_type": "markdown",
   "metadata": {},
   "source": [
    "### DeleteYaraRuleTag\n",
    "Deletes/Removes a specific tag for a given Yara rule in your environment. No changes can be made to Yara rules from other shared environments."
   ]
  },
  {
   "cell_type": "code",
   "execution_count": null,
   "metadata": {},
   "outputs": [],
   "source": [
    "tag_id = \"A1B2C43D4E5F6===\" # Example tag_id\n",
    "yaraRuleTags_response = requests.request(\"DELETE\", BASE_URI + '/environments/' + RuleEnv_ID + '/yaraRules/' + yaraRule + '/tags/' + tag_id, headers=headers)\n",
    "print(json_display(yaraRuleTags_response.content))"
   ]
  },
  {
   "cell_type": "markdown",
   "metadata": {},
   "source": [
    "___\n",
    "## [Assets](#Assets)"
   ]
  },
  {
   "cell_type": "markdown",
   "metadata": {},
   "source": [
    "### GetAssetMetadata\n",
    "Gets metadata for a particular asset."
   ]
  },
  {
   "cell_type": "code",
   "execution_count": null,
   "metadata": {},
   "outputs": [],
   "source": [
    "asset_id = \"AAAAAA-BBBBBB-CCCCCC-12345678\" # Example asset_id (this will produce an error if not given an actual asset_id)\n",
    "assetMeta_response = requests.get(BASE_URI + '/assets/' + asset_id, headers=headers)\n",
    "print(json_display(assetMeta_response.content))"
   ]
  },
  {
   "cell_type": "markdown",
   "metadata": {},
   "source": [
    "### ListEnvironmentAssets\n",
    "Lists all the assets for a given environment_id"
   ]
  },
  {
   "cell_type": "code",
   "execution_count": null,
   "metadata": {},
   "outputs": [],
   "source": [
    "response = requests.get(BASE_URI + '/environments/' + ENV_ID + '/assets', headers=headers)\n",
    "print(json_display(response.content))"
   ]
  },
  {
   "cell_type": "markdown",
   "metadata": {},
   "source": [
    "### ListAssetTags\n",
    "Gets the tags for the specified asset."
   ]
  },
  {
   "cell_type": "code",
   "execution_count": null,
   "metadata": {},
   "outputs": [],
   "source": [
    "assetTags_response = requests.get(BASE_URI + '/assets/' + asset_id + '/tags', headers=headers)\n",
    "print(json_display(assetTags_response.content))"
   ]
  },
  {
   "cell_type": "markdown",
   "metadata": {},
   "source": [
    "### CreateAssetTag\n",
    "Creates and applies a new tag to a given asset"
   ]
  },
  {
   "cell_type": "code",
   "execution_count": null,
   "metadata": {},
   "outputs": [],
   "source": [
    "body = {\"value\": \"TEST_TAG\", \"environment\": ENV_ID}\n",
    "assetTags_response = requests.request(\"POST\", BASE_URI + '/assets/' + asset_id + '/tags', headers=headers, data=json.dumps(body))\n",
    "assetTag_json = json.loads(assetTags_response.content)\n",
    "assetTag_id = assetTag_json['name'].split(\"/\")\n",
    "print(f\" the tag_id is: {assetTag_id[3]}\")\n",
    "print(json_display(assetTags_response.content))"
   ]
  },
  {
   "cell_type": "markdown",
   "metadata": {},
   "source": [
    "### DeleteAssetTag\n",
    "Removes a tag from a given asset"
   ]
  },
  {
   "cell_type": "code",
   "execution_count": null,
   "metadata": {},
   "outputs": [],
   "source": [
    "tag_id = \"A1B2C43D4E5F6===\" # Example tag_id\n",
    "assetTags_response = requests.request(\"DELETE\", BASE_URI + '/assets/' + asset_id + '/tags/' + tag_id, headers=headers)\n",
    "print(json_display(assetTags_response.content))"
   ]
  }
 ],
 "metadata": {
  "kernelspec": {
   "display_name": "Python 3",
   "language": "python",
   "name": "python3"
  },
  "language_info": {
   "codemirror_mode": {
    "name": "ipython",
    "version": 3
   },
   "file_extension": ".py",
   "mimetype": "text/x-python",
   "name": "python",
   "nbconvert_exporter": "python",
   "pygments_lexer": "ipython3",
   "version": "3.11.5"
  },
  "orig_nbformat": 4
 },
 "nbformat": 4,
 "nbformat_minor": 2
}
